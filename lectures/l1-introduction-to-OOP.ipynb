{
 "cells": [
  {
   "cell_type": "markdown",
   "metadata": {},
   "source": [
    "![College Logo](../misc/college-logo-1024x245.png)"
   ]
  },
  {
   "cell_type": "markdown",
   "metadata": {},
   "source": [
    "\n",
    "\n",
    "\n",
    "<div class=\"alert alert-block alert-info\">\n",
    "    \n",
    "# Lecture notes on OOP (C++)\n",
    "\n",
    "**By Jason Pandian**<br> *Assistant Professor, Department of Information Technology*\n",
    "\n",
    "</div>\n",
    "\n"
   ]
  },
  {
   "cell_type": "markdown",
   "metadata": {},
   "source": [
    "# INTRODUCTION TO OOP\n",
    "Object Oriented Programming concepts - Features – Benefits of Object\n",
    "Oriented Methodology- Input and Output statements - Decision control and\n",
    "looping statements-Functions-Arrays-Classes and Objects-Memory allocation - Array of objects – Constructors - Destructors"
   ]
  },
  {
   "cell_type": "markdown",
   "metadata": {},
   "source": [
    "# Prerequestories\n",
    "- Common Sense\n",
    "- Little Logics\n",
    "- Simple math Operations\n",
    "- Focus\n",
    "# - **Forgot Python**"
   ]
  },
  {
   "cell_type": "markdown",
   "metadata": {},
   "source": [
    "![College Logo](../misc/python-meme.jpeg)"
   ]
  },
  {
   "cell_type": "markdown",
   "metadata": {},
   "source": [
    "# From C to C with Class\n",
    "- C++ is a powerful general-purpose programming language that has significantly influenced the world of software development. \n",
    "- It was created by Bjarne Stroustrup at Bell Labs starting in 1979 as an extension of the C programming language. \n",
    "- The primary aim was to add object-oriented features to the C language while maintaining its efficiency and flexibility."
   ]
  },
  {
   "cell_type": "markdown",
   "metadata": {},
   "source": [
    "# Need For Compilers\n",
    "!gcc --version"
   ]
  },
  {
   "cell_type": "code",
   "execution_count": 7,
   "metadata": {},
   "outputs": [
    {
     "name": "stdout",
     "output_type": "stream",
     "text": [
      "gcc (Debian 12.2.0-14) 12.2.0\n",
      "Copyright (C) 2022 Free Software Foundation, Inc.\n",
      "This is free software; see the source for copying conditions.  There is NO\n",
      "warranty; not even for MERCHANTABILITY or FITNESS FOR A PARTICULAR PURPOSE.\n",
      "\n"
     ]
    }
   ],
   "source": [
    "!gcc --version"
   ]
  },
  {
   "cell_type": "code",
   "execution_count": 12,
   "metadata": {},
   "outputs": [
    {
     "name": "stdout",
     "output_type": "stream",
     "text": [
      "Overwriting unit1/simcls.cpp\n"
     ]
    }
   ],
   "source": [
    "%%writefile unit1/simcls.cpp\n",
    "\n",
    "#include <iostream>  // Required for std::cout\n",
    "#include <string>    // Required for std::string\n",
    "\n",
    "class Car {\n",
    "public:\n",
    "    std::string brand;   // Data member (attribute)\n",
    "    std::string model;   // Data member (attribute)\n",
    "    int year;            // Data member (attribute)\n",
    "\n",
    "    void printDetails() {   // Member function (method)\n",
    "        std::cout << \"Brand: \" << brand << \", Model: \" << model << \", Year: \" << year << std::endl;\n",
    "    }\n",
    "};\n",
    "\n",
    "int main() {\n",
    "    Car myCar;                // Creating an object of the Car class\n",
    "    myCar.brand = \"Toyota\";   // Setting the brand of myCar\n",
    "    myCar.model = \"Corolla\";  // Setting the model of myCar\n",
    "    myCar.year = 2020;        // Setting the year of myCar\n",
    "    myCar.printDetails();     // Calling the printDetails method\n",
    "    \n",
    "    Car myCar1;                // Creating an object of the Car class\n",
    "    myCar1.brand = \"Maruthi\";   // Setting the brand of myCar\n",
    "    myCar1.model = \"SWIFT\";  // Setting the model of myCar\n",
    "    myCar1.year = 2024;        // Setting the year of myCar\n",
    "    myCar1.printDetails();     // Calling the printDetails method\n",
    "\n",
    "    return 0;\n",
    "}\n"
   ]
  },
  {
   "cell_type": "code",
   "execution_count": 13,
   "metadata": {},
   "outputs": [
    {
     "name": "stdout",
     "output_type": "stream",
     "text": [
      "Brand: Toyota, Model: Corolla, Year: 2020\n",
      "Brand: Maruthi, Model: SWIFT, Year: 2024\n"
     ]
    }
   ],
   "source": [
    "!gcc unit1/simcls.cpp -lstdc++ -o unit1/simcls -std=c++11\n",
    "\n",
    "# Run the compiled program\n",
    "!./unit1/simcls\n"
   ]
  },
  {
   "cell_type": "markdown",
   "metadata": {},
   "source": [
    "Object-Oriented Programming (OOP) is a programming paradigm based on the concept of \"objects,\" which can contain data and code to manipulate that data. It allows for more organized, modular, and reusable code. Here’s an introduction to the core concepts of OOP in C++:\n",
    "\n",
    "## 1. Classes and Objects\n",
    "Class: A class is a blueprint for creating objects. It defines a type of object by bundling data and methods that operate on the data.\n",
    "\n",
    "Object: An object is an instance of a class. It represents a specific entity with its own state and behavior."
   ]
  },
  {
   "cell_type": "code",
   "execution_count": 28,
   "metadata": {},
   "outputs": [
    {
     "name": "stdout",
     "output_type": "stream",
     "text": [
      "Overwriting unit1/simpleclass.cpp\n"
     ]
    }
   ],
   "source": [
    "%%writefile unit1/simpleclass.cpp\n",
    "\n",
    "\n",
    "#include <iostream>\n",
    "using namespace std;\n",
    "\n",
    "class Car {\n",
    "public:\n",
    "    // Data members\n",
    "    string brand;\n",
    "    int year;\n",
    "    \n",
    "    // Member function\n",
    "    void displayInfo() {\n",
    "        cout << \"Brand: \" << brand << \", Year: \" << year << endl;\n",
    "    }\n",
    "};\n",
    "\n",
    "int main() {\n",
    "    // Create an object of the Car class\n",
    "    Car myCar;\n",
    "    myCar.brand = \"Toyota\";\n",
    "    myCar.year = 2022;\n",
    "    myCar.displayInfo(); // Output: Brand: Toyota, Year: 2022\n",
    "    return 0;\n",
    "}\n"
   ]
  },
  {
   "cell_type": "code",
   "execution_count": 29,
   "metadata": {},
   "outputs": [
    {
     "name": "stdout",
     "output_type": "stream",
     "text": [
      "Brand: Toyota, Year: 2022\n"
     ]
    }
   ],
   "source": [
    "!gcc unit1/simpleclass.cpp -lstdc++ -o unit1/simpleclass -std=c++11\n",
    "\n",
    "# Run the compiled program\n",
    "!./unit1/simpleclass\n"
   ]
  },
  {
   "cell_type": "markdown",
   "metadata": {},
   "source": [
    "## 2. Encapsulation\n",
    "Encapsulation: The concept of wrapping data (attributes) and methods (functions) into a single unit called a class. It restricts direct access to some of the object's components.\n",
    "\n"
   ]
  },
  {
   "cell_type": "code",
   "execution_count": 10,
   "metadata": {},
   "outputs": [
    {
     "name": "stdout",
     "output_type": "stream",
     "text": [
      "Overwriting unit1/encap.cpp\n"
     ]
    }
   ],
   "source": [
    "%%writefile unit1/encap.cpp\n",
    "\n",
    "#include <iostream> // Include the input-output stream library\n",
    "using namespace std; // Use the standard namespace\n",
    "\n",
    "// Define the BankAccount class\n",
    "class BankAccount {\n",
    "private:\n",
    "    double balance; // Private member variable to store the account balance\n",
    "    \n",
    "public:\n",
    "    // Constructor to initialize the balance with the provided initial balance\n",
    "    BankAccount(double initialBalance) : balance(initialBalance) {}\n",
    "    \n",
    "    // Member function to deposit money into the account\n",
    "    void deposit(double amount) {\n",
    "        if (amount > 0) { // Check if the deposit amount is positive\n",
    "            balance += amount; // Add the deposit amount to the balance\n",
    "        }\n",
    "    }\n",
    "    \n",
    "    // Member function to withdraw money from the account\n",
    "    void withdraw(double amount) {\n",
    "        if (amount > 0 && amount <= balance) { // Check if the withdrawal amount is positive and less than or equal to the balance\n",
    "            balance -= amount; // Subtract the withdrawal amount from the balance\n",
    "        }\n",
    "    }\n",
    "    \n",
    "    // Member function to check the current balance of the account\n",
    "    double getBalance() {\n",
    "        return balance; // Return the current balance\n",
    "    }\n",
    "};\n",
    "\n",
    "// Main function to demonstrate the usage of the BankAccount class\n",
    "int main() {\n",
    "    BankAccount myAccount(1000); // Create a BankAccount object with an initial balance of 1000\n",
    "    cout << \"Current balance: \" << myAccount.getBalance() << endl; // Output the current balance\n",
    "    \n",
    "    myAccount.deposit(500); // Deposit 500 into the account\n",
    "    cout << \"Current balance: \" << myAccount.getBalance() << endl; // Output the current balance\n",
    "    \n",
    "    myAccount.withdraw(200); // Withdraw 200 from the account\n",
    "    cout << \"Current balance: \" << myAccount.getBalance() << endl; // Output the current balance\n",
    "    return 0; // Return 0 to indicate successful execution\n",
    "}\n"
   ]
  },
  {
   "cell_type": "code",
   "execution_count": 11,
   "metadata": {},
   "outputs": [
    {
     "name": "stdout",
     "output_type": "stream",
     "text": [
      "Current balance: 1000\n",
      "Current balance: 1500\n",
      "Current balance: 1300\n"
     ]
    }
   ],
   "source": [
    "!gcc unit1/encap.cpp -lstdc++ -o unit1/encap -std=c++11\n",
    "\n",
    "# Run the compiled program\n",
    "!./unit1/encap\n"
   ]
  },
  {
   "cell_type": "markdown",
   "metadata": {},
   "source": [
    "## 3. Inheritance\n",
    "Inheritance: A mechanism where a new class (derived class) inherits properties and behaviors from an existing class (base class). This helps to promote code reusability."
   ]
  },
  {
   "cell_type": "code",
   "execution_count": 47,
   "metadata": {},
   "outputs": [
    {
     "name": "stdout",
     "output_type": "stream",
     "text": [
      "Overwriting unit1/inhert.cpp\n"
     ]
    }
   ],
   "source": [
    "%%writefile unit1/inhert.cpp\n",
    "\n",
    "#include <iostream> // Include the input-output stream library\n",
    "using namespace std; // Use the standard namespace\n",
    "\n",
    "// Define the Vehicle class\n",
    "class Vehicle {\n",
    "public:\n",
    "    // Member function to start the vehicle\n",
    "    void start() {\n",
    "        cout << \"Vehicle starting...\" << endl;\n",
    "    }\n",
    "\n",
    "    void stop() {\n",
    "        cout << \"Vehicle stopped...\" << endl;\n",
    "    }\n",
    "};\n",
    "\n",
    "// Define the Car class, which inherits from the Vehicle class\n",
    "class Car : public Vehicle {\n",
    "public:\n",
    "    // Member function to drive the car\n",
    "    void drive() {\n",
    "        cout << \"Car is driving.\" << endl;\n",
    "    }\n",
    "};\n",
    "\n",
    "// Main function to demonstrate the usage of the Vehicle and Car classes\n",
    "int main() {\n",
    "    Car myCar; // Create a Car object named myCar\n",
    "    myCar.start(); // Call the inherited start method from the Vehicle class on the myCar object\n",
    "    myCar.drive(); // Call the drive method from the Car class on the myCar object\n",
    "    myCar.stop(); // Call the inherited stop method from the Vehicle class on the myCar object\n",
    "    return 0; // Return 0 to indicate successful execution\n",
    "}\n",
    "\n"
   ]
  },
  {
   "cell_type": "code",
   "execution_count": 46,
   "metadata": {},
   "outputs": [
    {
     "name": "stdout",
     "output_type": "stream",
     "text": [
      "Vehicle starting...\n",
      "Car is driving.\n",
      "Vehicle stopped...\n"
     ]
    }
   ],
   "source": [
    "!gcc unit1/inhert.cpp -lstdc++ -o unit1/inhert -std=c++11\n",
    "\n",
    "# Run the compiled program\n",
    "!./unit1/inhert\n"
   ]
  },
  {
   "cell_type": "markdown",
   "metadata": {},
   "source": [
    "## 4. Polymorphism\n",
    "Polymorphism: The ability to present the same interface for different underlying data types. It allows one function or operator to operate in different ways depending on the context."
   ]
  },
  {
   "cell_type": "code",
   "execution_count": 53,
   "metadata": {},
   "outputs": [
    {
     "name": "stdout",
     "output_type": "stream",
     "text": [
      "Overwriting unit1/poly.cpp\n"
     ]
    }
   ],
   "source": [
    "%%writefile unit1/poly.cpp \n",
    "// Directive to write this code to a file named poly.cpp in the unit1 directory\n",
    "\n",
    "#include <iostream> // Include the input-output stream library\n",
    "using namespace std; // Use the standard namespace\n",
    "\n",
    "// Define the Shape class\n",
    "class Shape {\n",
    "public:\n",
    "    // Virtual member function to draw a shape\n",
    "    virtual void draw() {\n",
    "        cout << \"Drawing a shape.\" << endl;\n",
    "    }\n",
    "};\n",
    "\n",
    "// Define the Circle class, which inherits from the Shape class\n",
    "class Circle : public Shape {\n",
    "public:\n",
    "    // Override the draw function to draw a circle\n",
    "    void draw() override {\n",
    "        cout << \"Drawing a circle.\" << endl;\n",
    "    }\n",
    "};\n",
    "\n",
    "// Define the Square class, which inherits from the Shape class\n",
    "class Square : public Shape {\n",
    "public:\n",
    "    // Override the draw function to draw a square\n",
    "    void draw() override {\n",
    "        cout << \"Drawing a square.\" << endl;\n",
    "    }\n",
    "};\n",
    "\n",
    "// Main function to demonstrate polymorphism with Shape, Circle, and Square classes\n",
    "int main() {\n",
    "    Shape* shapePtr; // Declare a pointer to Shape\n",
    "    \n",
    "    Circle circle; // Create a Circle object\n",
    "    Square square; // Create a Square object\n",
    "    \n",
    "    shapePtr = &circle; // Point shapePtr to the Circle object\n",
    "    shapePtr->draw(); // Call the draw function through the Shape pointer, outputs \"Drawing a circle.\"\n",
    "    \n",
    "    shapePtr = &square; // Point shapePtr to the Square object\n",
    "    shapePtr->draw(); // Call the draw function through the Shape pointer, outputs \"Drawing a square.\"\n",
    "    \n",
    "    return 0; // Return 0 to indicate successful execution\n",
    "}\n"
   ]
  },
  {
   "cell_type": "code",
   "execution_count": 52,
   "metadata": {},
   "outputs": [
    {
     "name": "stdout",
     "output_type": "stream",
     "text": [
      "Drawing a circle.\n",
      "Drawing a square.\n"
     ]
    }
   ],
   "source": [
    "!gcc unit1/poly.cpp -lstdc++ -o unit1/poly -std=c++11\n",
    "\n",
    "# Run the compiled program\n",
    "!./unit1/poly\n"
   ]
  },
  {
   "cell_type": "markdown",
   "metadata": {},
   "source": [
    "## 5. Abstraction\n",
    "Abstraction: The concept of hiding the complex implementation details and showing only the essential features of an object. It allows focusing on what an object does instead of how it does it."
   ]
  },
  {
   "cell_type": "code",
   "execution_count": 54,
   "metadata": {},
   "outputs": [
    {
     "name": "stdout",
     "output_type": "stream",
     "text": [
      "Writing unit1/abst.cpp\n"
     ]
    }
   ],
   "source": [
    "%%writefile unit1/abst.cpp \n",
    "\n",
    "\n",
    "#include <iostream> // Include the input-output stream library\n",
    "using namespace std; // Use the standard namespace\n",
    "\n",
    "// Define the AbstractShape class\n",
    "class AbstractShape {\n",
    "public:\n",
    "    // Pure virtual function to draw a shape\n",
    "    // This makes AbstractShape an abstract class\n",
    "    virtual void draw() = 0; \n",
    "    // = 0 indicates that this function is pure virtual\n",
    "};\n",
    "\n",
    "// Define the Rectangle class, which inherits from the AbstractShape class\n",
    "class Rectangle : public AbstractShape {\n",
    "public:\n",
    "    // Override the pure virtual function to draw a rectangle\n",
    "    void draw() override {\n",
    "        cout << \"Drawing a rectangle.\" << endl;\n",
    "    }\n",
    "};\n",
    "\n",
    "// Main function to demonstrate the usage of the AbstractShape and Rectangle classes\n",
    "int main() {\n",
    "    Rectangle rect; // Create a Rectangle object\n",
    "    rect.draw(); // Call the draw function, outputs \"Drawing a rectangle.\"\n",
    "    return 0; // Return 0 to indicate successful execution\n",
    "}\n"
   ]
  },
  {
   "cell_type": "code",
   "execution_count": 55,
   "metadata": {},
   "outputs": [
    {
     "name": "stdout",
     "output_type": "stream",
     "text": [
      "Drawing a rectangle.\n"
     ]
    }
   ],
   "source": [
    "!gcc unit1/abst.cpp -lstdc++ -o unit1/abst -std=c++11\n",
    "\n",
    "# Run the compiled program\n",
    "!./unit1/abst\n"
   ]
  },
  {
   "cell_type": "markdown",
   "metadata": {},
   "source": [
    "## Quick Summary\n",
    "- Classes and Objects: Define and create entities with state and behavior.\n",
    "- Encapsulation: Hide the internal state and only expose necessary functionality.\n",
    "- Inheritance: Create new classes based on existing classes to promote reuse.\n",
    "- Polymorphism: Use the same function name for different implementations.\n",
    "- Abstraction: Focus on essential qualities of objects and ignore irrelevant details."
   ]
  },
  {
   "cell_type": "markdown",
   "metadata": {},
   "source": [
    "# Object-Oriented Methodology\n",
    "Object-Oriented Methodology (OOM) offers several features and benefits that make it a popular paradigm for designing and developing software systems. Here’s a detailed look at both:\n",
    "\n",
    "## Features of Object-Oriented Methodology\n",
    "**1. Encapsulation** is the bundling of data and methods that operate on the data into a single unit or class. It restricts access to some of the object’s components.\n",
    "- Implementation: Access specifiers like private, protected, and public control the visibility of class members.\n",
    "\n",
    "**2. Inheritance allows** a new class (derived class) to inherit properties and behaviors from an existing class (base class).\n",
    "- Types: Single, multiple, and hierarchical inheritance.\n",
    "\n",
    "**3. Polymorphism** allows methods to do different things based on the object it is acting upon. It provides a way to perform the same operation in different ways.\n",
    "- Types: Compile-time polymorphism (method overloading) and runtime polymorphism (method overriding).\n",
    "\n",
    "**4. Abstraction** involves hiding the complex implementation details and showing only the essential features of the object. It helps in focusing on what an object does rather than how it does it.\n",
    "- Implementation: Abstract classes and interfaces define abstract methods without providing a concrete implementation.\n",
    "\n",
    "**5. Class and Object:** Classes are blueprints for creating objects. Objects are instances of classes that encapsulate both data and methods.\n",
    "- Characteristics: Objects have state (attributes) and behavior (methods).\n",
    "\n",
    "\n",
    "## Benefits of Object-Oriented Methodology\n",
    "**1. Modularity:** OOM promotes modularity by organizing code into classes. Each class can be developed, tested, and debugged independently.\n",
    "- Benefit: Makes it easier to manage and understand complex software systems.\n",
    "\n",
    "**2. Reusability:** Classes and objects can be reused across different programs. Inheritance allows new classes to reuse code from existing classes.\n",
    "- Benefit: Reduces redundancy and improves code maintenance.\n",
    "  \n",
    "**3. Maintainability:** Encapsulation and modularity make it easier to modify and extend existing code. Changes in one part of the system can be made with minimal impact on other parts.\n",
    "- Benefit: Simplifies debugging and updates, leading to more robust software.\n",
    "\n",
    "**4. Scalability:** OOM supports scalable design by allowing the addition of new classes and objects. It facilitates the development of large and complex systems.\n",
    "- Benefit: Enhances the ability to build and manage large-scale applications.\n",
    "\n",
    "**5. Flexibility:** Polymorphism allows objects to be treated as instances of their parent class, enabling flexible and dynamic method execution.\n",
    "- Benefit: Provides flexibility in code implementation and facilitates future enhancements.\n",
    "\n",
    "**6. Abstraction:** By focusing on high-level operations rather than low-level details, OOM makes complex systems easier to understand and manage.\n",
    "- Benefit: Improves code readability and reduces complexity.\n",
    "\n",
    "**7. Code Reusability:** Inheritance and composition enable the reuse of existing code to create new functionality.\n",
    "- Benefit: Saves development time and effort by leveraging existing, tested code.\n",
    "\n",
    "**8. Improved Collaboration:** OOM allows different team members to work on different classes simultaneously. Classes can be designed and tested independently.\n",
    "- Benefit: Facilitates collaborative development and parallel work.\n",
    "\n",
    "**9. Real-World Modeling:** OOM models real-world entities as objects, which can make it easier to understand and design systems based on real-world scenarios.\n",
    "- Benefit: Enhances the alignment of software design with real-world requirements and logic.\n",
    "\n",
    "1**0. Error Reduction:** Encapsulation hides internal data and methods, reducing the likelihood of unintended interference and errors.\n",
    "- Benefit: Improves code reliability and stability.\n",
    "\n",
    "## Quick Summary\n",
    "\n",
    "Object-Oriented Methodology enhances software development through its features of encapsulation, inheritance, polymorphism, and abstraction. These features provide numerous benefits, including modularity, reusability, maintainability, scalability, flexibility, and improved collaboration. By modeling real-world entities and relationships, OOM helps in building robust, maintainable, and scalable software systems."
   ]
  },
  {
   "cell_type": "markdown",
   "metadata": {},
   "source": [
    "### Types of Inheritance in C++\n",
    "\n",
    "#### 1. Single Inheritance\n",
    "A derived class inherits from one base class."
   ]
  },
  {
   "cell_type": "code",
   "execution_count": 1,
   "metadata": {},
   "outputs": [
    {
     "name": "stdout",
     "output_type": "stream",
     "text": [
      "Writing unit1/SingleIn.cpp\n"
     ]
    }
   ],
   "source": [
    "%%writefile unit1/SingleIn.cpp \n",
    "\n",
    "#include <iostream>\n",
    "using namespace std;\n",
    "\n",
    "// Base class\n",
    "class Animal {\n",
    "public:\n",
    "    void eat() {\n",
    "        cout << \"Eating...\" << endl;\n",
    "    }\n",
    "};\n",
    "\n",
    "// Derived class\n",
    "class Dog : public Animal {\n",
    "public:\n",
    "    void bark() {\n",
    "        cout << \"Barking...\" << endl;\n",
    "    }\n",
    "};\n",
    "\n",
    "int main() {\n",
    "    Dog myDog;\n",
    "    myDog.eat(); // Inherited from Animal\n",
    "    myDog.bark(); // Specific to Dog\n",
    "    return 0;\n",
    "}"
   ]
  },
  {
   "cell_type": "code",
   "execution_count": 18,
   "metadata": {},
   "outputs": [
    {
     "name": "stdout",
     "output_type": "stream",
     "text": [
      "Eating...\n",
      "Barking...\n"
     ]
    }
   ],
   "source": [
    "!gcc unit1/SingleIn.cpp -lstdc++ -o unit1/SingleIn -std=c++11\n",
    "\n",
    "# Run the compiled program\n",
    "!./unit1/SingleIn\n"
   ]
  },
  {
   "cell_type": "markdown",
   "metadata": {},
   "source": [
    "#### 2. Multiple Inheritance\n",
    "A derived class inherits from more than one base class.\n"
   ]
  },
  {
   "cell_type": "code",
   "execution_count": 5,
   "metadata": {},
   "outputs": [
    {
     "name": "stdout",
     "output_type": "stream",
     "text": [
      "Overwriting unit1/MulIn.cpp\n"
     ]
    }
   ],
   "source": [
    "%%writefile unit1/MulIn.cpp \n",
    "\n",
    "#include <iostream>\n",
    "using namespace std;\n",
    "\n",
    "class Base1 {\n",
    "public:\n",
    "    void display() {\n",
    "        cout << \"Base1 display\" << endl;\n",
    "    }\n",
    "};\n",
    "\n",
    "class Base2 {\n",
    "public:\n",
    "    void show() {\n",
    "        cout << \"Base2 show\" << endl;\n",
    "    }\n",
    "};\n",
    "\n",
    "class Derived : public Base1, public Base2 {\n",
    "};\n",
    "\n",
    "int main() {\n",
    "    Derived obj;\n",
    "    obj.display(); // From Base1\n",
    "    obj.show();    // From Base2\n",
    "    return 0;\n",
    "}"
   ]
  },
  {
   "cell_type": "code",
   "execution_count": 6,
   "metadata": {},
   "outputs": [
    {
     "name": "stdout",
     "output_type": "stream",
     "text": [
      "Base1 display\n",
      "Base2 show\n"
     ]
    }
   ],
   "source": [
    "!gcc unit1/MulIn.cpp -lstdc++ -o unit1/MulIn -std=c++11\n",
    "\n",
    "# Run the compiled program\n",
    "!./unit1/MulIn\n"
   ]
  },
  {
   "cell_type": "markdown",
   "metadata": {},
   "source": [
    "#### 3. Multilevel Inheritance\n",
    "A derived class is derived from another derived class.\n"
   ]
  },
  {
   "cell_type": "code",
   "execution_count": 19,
   "metadata": {},
   "outputs": [
    {
     "name": "stdout",
     "output_type": "stream",
     "text": [
      "Overwriting unit1/MLIn.cpp\n"
     ]
    }
   ],
   "source": [
    "%%writefile unit1/MLIn.cpp \n",
    "\n",
    "#include <iostream>\n",
    "using namespace std;\n",
    "\n",
    "class Animal {\n",
    "public:\n",
    "    void eat() {\n",
    "        cout << \"Eating...\" << endl;\n",
    "    }\n",
    "};\n",
    "\n",
    "class Mammal : public Animal {\n",
    "public:\n",
    "    void breathe() {\n",
    "        cout << \"Breathing...\" << endl;\n",
    "    }\n",
    "};\n",
    "\n",
    "class Dog : public Mammal {\n",
    "public:\n",
    "    void bark() {\n",
    "        cout << \"Barking...\" << endl;\n",
    "    }\n",
    "};\n",
    "\n",
    "int main() {\n",
    "    Dog myDog;\n",
    "    myDog.eat();    // Inherited from Animal\n",
    "    myDog.breathe(); // Inherited from Mammal\n",
    "    myDog.bark();    // Specific to Dog\n",
    "    return 0;\n",
    "}"
   ]
  },
  {
   "cell_type": "code",
   "execution_count": 20,
   "metadata": {},
   "outputs": [
    {
     "name": "stdout",
     "output_type": "stream",
     "text": [
      "Eating...\n",
      "Breathing...\n",
      "Barking...\n"
     ]
    }
   ],
   "source": [
    "!gcc unit1/MLIn.cpp -lstdc++ -o unit1/MLIn -std=c++11\n",
    "\n",
    "# Run the compiled program\n",
    "!./unit1/MLIn\n"
   ]
  },
  {
   "cell_type": "markdown",
   "metadata": {},
   "source": [
    "#### 4. Hierarchical Inheritance\n",
    "Multiple derived classes inherit from a single base class."
   ]
  },
  {
   "cell_type": "code",
   "execution_count": 21,
   "metadata": {},
   "outputs": [
    {
     "name": "stdout",
     "output_type": "stream",
     "text": [
      "Overwriting unit1/HiIn.cpp\n"
     ]
    }
   ],
   "source": [
    "%%writefile unit1/HiIn.cpp \n",
    "\n",
    "#include <iostream>\n",
    "using namespace std;\n",
    "\n",
    "class Animal {\n",
    "public:\n",
    "    void eat() {\n",
    "        cout << \"Eating...\" << endl;\n",
    "    }\n",
    "};\n",
    "\n",
    "class Dog : public Animal {\n",
    "public:\n",
    "    void bark() {\n",
    "        cout << \"Barking...\" << endl;\n",
    "    }\n",
    "};\n",
    "\n",
    "class Cat : public Animal {\n",
    "public:\n",
    "    void meow() {\n",
    "        cout << \"Meowing...\" << endl;\n",
    "    }\n",
    "};\n",
    "\n",
    "int main() {\n",
    "    Dog myDog;\n",
    "    Cat myCat;\n",
    "    myDog.eat(); // Inherited from Animal\n",
    "    myDog.bark(); // Specific to Dog\n",
    "    myCat.eat(); // Inherited from Animal\n",
    "    myCat.meow(); // Specific to Cat\n",
    "    return 0;\n",
    "}"
   ]
  },
  {
   "cell_type": "code",
   "execution_count": 22,
   "metadata": {},
   "outputs": [
    {
     "name": "stdout",
     "output_type": "stream",
     "text": [
      "Eating...\n",
      "Barking...\n",
      "Eating...\n",
      "Meowing...\n"
     ]
    }
   ],
   "source": [
    "!gcc unit1/HiIn.cpp -lstdc++ -o unit1/HiIn -std=c++11\n",
    "\n",
    "# Run the compiled program\n",
    "!./unit1/HiIn\n"
   ]
  },
  {
   "cell_type": "markdown",
   "metadata": {},
   "source": [
    "\n",
    "#### 5. Hybrid Inheritance\n",
    "A combination of two or more types of inheritance."
   ]
  },
  {
   "cell_type": "code",
   "execution_count": 23,
   "metadata": {},
   "outputs": [
    {
     "name": "stdout",
     "output_type": "stream",
     "text": [
      "Overwriting unit1/HyIn.cpp\n"
     ]
    }
   ],
   "source": [
    "%%writefile unit1/HyIn.cpp \n",
    "\n",
    "#include <iostream>\n",
    "using namespace std;\n",
    "\n",
    "class Animal {\n",
    "public:\n",
    "    void eat() {\n",
    "        cout << \"Eating...\" << endl;\n",
    "    }\n",
    "};\n",
    "\n",
    "class Mammal {\n",
    "public:\n",
    "    void breathe() {\n",
    "        cout << \"Breathing...\" << endl;\n",
    "    }\n",
    "};\n",
    "\n",
    "class Dog : public Animal, public Mammal {\n",
    "public:\n",
    "    void bark() {\n",
    "        cout << \"Barking...\" << endl;\n",
    "    }\n",
    "};\n",
    "\n",
    "int main() {\n",
    "    Dog myDog;\n",
    "    myDog.eat();    // Inherited from Animal\n",
    "    myDog.breathe(); // Inherited from Mammal\n",
    "    myDog.bark();    // Specific to Dog\n",
    "    return 0;\n",
    "}"
   ]
  },
  {
   "cell_type": "code",
   "execution_count": 13,
   "metadata": {},
   "outputs": [
    {
     "name": "stdout",
     "output_type": "stream",
     "text": [
      "Eating...\n",
      "Breathing...\n",
      "Barking...\n"
     ]
    }
   ],
   "source": [
    "!gcc unit1/HyIn.cpp -lstdc++ -o unit1/HyIn -std=c++11\n",
    "\n",
    "# Run the compiled program\n",
    "!./unit1/HyIn\n"
   ]
  },
  {
   "cell_type": "markdown",
   "metadata": {},
   "source": [
    "### Types of Polymorphism in C++\n",
    "\n",
    "#### 1. Compile-Time Polymorphism (Static Binding)\n",
    "\n",
    "**Function Overloading**: Multiple functions with the same name but different parameters.\n"
   ]
  },
  {
   "cell_type": "code",
   "execution_count": 35,
   "metadata": {},
   "outputs": [
    {
     "name": "stdout",
     "output_type": "stream",
     "text": [
      "Overwriting unit1/FunOver.cpp\n"
     ]
    }
   ],
   "source": [
    "%%writefile unit1/FunOver.cpp \n",
    "\n",
    "#include <iostream>\n",
    "using namespace std;\n",
    "\n",
    "class Print {\n",
    "public:\n",
    "    void display(int i) {\n",
    "        cout << \"Integer: \" << i << endl;\n",
    "    }\n",
    "\n",
    "    void display(double f) {\n",
    "        cout << \"Float: \" << f << endl;\n",
    "    }\n",
    "\n",
    "    void display(string s) {\n",
    "        cout << \"String: \" << s << endl;\n",
    "    }\n",
    "};\n",
    "\n",
    "int main() {\n",
    "    Print obj;\n",
    "    obj.display((int)5.00);\n",
    "    obj.display((int)3.14);\n",
    "    obj.display(0.4);\n",
    "    return 0;\n",
    "}"
   ]
  },
  {
   "cell_type": "code",
   "execution_count": 36,
   "metadata": {},
   "outputs": [
    {
     "name": "stdout",
     "output_type": "stream",
     "text": [
      "Integer: 5\n",
      "Integer: 3\n",
      "Float: 0.4\n"
     ]
    }
   ],
   "source": [
    "!gcc unit1/FunOver.cpp -lstdc++ -o unit1/FunOver -std=c++11\n",
    "\n",
    "# Run the compiled program\n",
    "!./unit1/FunOver\n"
   ]
  },
  {
   "cell_type": "markdown",
   "metadata": {},
   "source": [
    "\n",
    "**Operator Overloading**: Operators are overloaded to work with user-defined data types.\n"
   ]
  },
  {
   "cell_type": "code",
   "execution_count": 37,
   "metadata": {},
   "outputs": [
    {
     "name": "stdout",
     "output_type": "stream",
     "text": [
      "Overwriting unit1/OpOver.cpp\n"
     ]
    }
   ],
   "source": [
    "%%writefile unit1/OpOver.cpp \n",
    "\n",
    "#include <iostream>\n",
    "using namespace std;\n",
    "\n",
    "class Complex {\n",
    "private:\n",
    "    float real;\n",
    "    float imag;\n",
    "public:\n",
    "    Complex() : real(0), imag(0) {}\n",
    "    Complex(float r, float i) : real(r), imag(i) {}\n",
    "\n",
    "    // Overload + operator\n",
    "    Complex operator + (const Complex& obj) {\n",
    "        Complex temp;\n",
    "        temp.real = real + obj.real;\n",
    "        temp.imag = imag + obj.imag;\n",
    "        return temp;\n",
    "    }\n",
    "\n",
    "    void display() {\n",
    "        cout << real << \" + \" << imag << \"i\" << endl;\n",
    "    }\n",
    "};\n",
    "\n",
    "int main() {\n",
    "    Complex c1(3.3, 4.4), c2(1.1, 2.2);\n",
    "    Complex c3 = c1 + c2; // Calls operator+()\n",
    "    c3.display();\n",
    "    return 0;\n",
    "}"
   ]
  },
  {
   "cell_type": "code",
   "execution_count": 17,
   "metadata": {},
   "outputs": [
    {
     "name": "stdout",
     "output_type": "stream",
     "text": [
      "4.4 + 6.6i\n"
     ]
    }
   ],
   "source": [
    "!gcc unit1/OpOver.cpp -lstdc++ -o unit1/OpOver -std=c++11\n",
    "\n",
    "# Run the compiled program\n",
    "!./unit1/OpOver\n"
   ]
  },
  {
   "cell_type": "markdown",
   "metadata": {},
   "source": [
    "\n",
    "\n",
    "#### 2. Run-Time Polymorphism (Dynamic Binding)\n",
    "\n",
    "**Virtual Functions**: A base class declares a function as virtual to achieve run-time polymorphism.\n",
    "\n",
    "```cpp\n",
    "#include <iostream>\n",
    "using namespace std;\n",
    "\n",
    "class Base {\n",
    "public:\n",
    "    virtual void show() {\n",
    "        cout << \"Base class show function\" << endl;\n",
    "    }\n",
    "\n",
    "    void display() {\n",
    "        cout << \"Base class display function\" << endl;\n",
    "    }\n",
    "};\n",
    "\n",
    "class Derived : public Base {\n",
    "public:\n",
    "    void show() override {\n",
    "        cout << \"Derived class show function\" << endl;\n",
    "    }\n",
    "\n",
    "    void display() {\n",
    "        cout << \"Derived class display function\" << endl;\n",
    "    }\n",
    "};\n",
    "\n",
    "int main() {\n",
    "    Base* bptr;\n",
    "    Derived d;\n",
    "    bptr = &d;\n",
    "\n",
    "    // Virtual function, binded at runtime\n",
    "    bptr->show();\n",
    "\n",
    "    // Non-virtual function, binded at compile time\n",
    "    bptr->display();\n",
    "\n",
    "    return 0;\n",
    "}\n",
    "```\n",
    "\n",
    "In this example:\n",
    "- `show()` is a virtual function, and its call is resolved at runtime.\n",
    "- `display()` is a non-virtual function, and its call is resolved at compile time."
   ]
  },
  {
   "cell_type": "markdown",
   "metadata": {},
   "source": [
    "\n",
    "### Input and Output Statements\n",
    "\n",
    "To perform input and output operations in C++, use the `<iostream>` library. The `cout` object is used for output, and the `cin` object is used for input.\n",
    "\n",
    "```cpp\n",
    "#include <iostream>\n",
    "#include <iomanip>  // For formatting\n",
    "#include <string>   // For handling strings\n",
    "using namespace std;\n",
    "\n",
    "int main() {\n",
    "    // Output Statement\n",
    "    cout << \"Hello, World!\" << endl;\n",
    "\n",
    "    // Formatted Output\n",
    "    double pi = 3.14159;\n",
    "    cout << fixed << setprecision(2) << \"Value of pi: \" << pi << endl;\n",
    "\n",
    "    // Input Statement\n",
    "    int number;\n",
    "    cout << \"Enter a number: \";\n",
    "    cin >> number;\n",
    "    cout << \"You entered: \" << number << endl;\n",
    "\n",
    "    // Reading Strings\n",
    "    string name;\n",
    "    cout << \"Enter your name: \";\n",
    "    cin.ignore();  // Ignore the leftover newline character\n",
    "    getline(cin, name);\n",
    "    cout << \"Hello, \" << name << \"!\" << endl;\n",
    "\n",
    "    return 0;\n",
    "}\n"
   ]
  },
  {
   "cell_type": "markdown",
   "metadata": {},
   "source": [
    "\n",
    "### Input and Output Statements\n",
    "\n",
    "To perform input and output operations in C++, use the `<iostream>` library. The `cout` object is used for output, and the `cin` object is used for input.\n",
    "\n",
    "```cpp\n",
    "#include <iostream>\n",
    "#include <iomanip>  // For formatting\n",
    "#include <string>   // For handling strings\n",
    "using namespace std;\n",
    "\n",
    "int main() {\n",
    "    // Output Statement\n",
    "    cout << \"Hello, World!\" << endl;\n",
    "\n",
    "    // Formatted Output\n",
    "    double pi = 3.14159;\n",
    "    cout << fixed << setprecision(2) << \"Value of pi: \" << pi << endl;\n",
    "\n",
    "    // Input Statement\n",
    "    int number;\n",
    "    cout << \"Enter a number: \";\n",
    "    cin >> number;\n",
    "    cout << \"You entered: \" << number << endl;\n",
    "\n",
    "    // Reading Strings\n",
    "    string name;\n",
    "    cout << \"Enter your name: \";\n",
    "    cin.ignore();  // Ignore the leftover newline character\n",
    "    getline(cin, name);\n",
    "    cout << \"Hello, \" << name << \"!\" << endl;\n",
    "\n",
    "    return 0;\n",
    "}\n"
   ]
  },
  {
   "cell_type": "markdown",
   "metadata": {},
   "source": [
    "### Functions in C++\n",
    "\n",
    "Functions are blocks of code that perform a specific task. They help to modularize code, making it easier to read, maintain, and reuse.\n",
    "\n",
    "#### Basic Function Syntax\n",
    "\n",
    "```cpp\n",
    "#include <iostream>\n",
    "using namespace std;\n",
    "\n",
    "// Function declaration\n",
    "int add(int a, int b);\n",
    "\n",
    "int main() {\n",
    "    int x = 5, y = 10;\n",
    "    int result = add(x, y); // Function call\n",
    "    cout << \"The sum is: \" << result << endl;\n",
    "    return 0;\n",
    "}\n",
    "\n",
    "// Function definition\n",
    "int add(int a, int b) {\n",
    "    return a + b;\n",
    "}\n",
    "```\n",
    "\n",
    "### Types of Functions\n",
    "\n",
    "#### 1. **Void Functions**\n",
    "\n",
    "Functions that do not return a value.\n",
    "\n",
    "```cpp\n",
    "#include <iostream>\n",
    "using namespace std;\n",
    "\n",
    "void greet() {\n",
    "    cout << \"Hello, World!\" << endl;\n",
    "}\n",
    "\n",
    "int main() {\n",
    "    greet(); // Function call\n",
    "    return 0;\n",
    "}\n",
    "```\n",
    "\n",
    "#### 2. **Value-Returning Functions**\n",
    "\n",
    "Functions that return a value of a specific data type.\n",
    "\n",
    "```cpp\n",
    "#include <iostream>\n",
    "using namespace std;\n",
    "\n",
    "int multiply(int a, int b) {\n",
    "    return a * b;\n",
    "}\n",
    "\n",
    "int main() {\n",
    "    int x = 5, y = 10;\n",
    "    int result = multiply(x, y);\n",
    "    cout << \"The product is: \" << result << endl;\n",
    "    return 0;\n",
    "}\n",
    "```\n",
    "\n",
    "#### 3. **Functions with Default Arguments**\n",
    "\n",
    "Functions that have default values for parameters.\n",
    "\n",
    "```cpp\n",
    "#include <iostream>\n",
    "using namespace std;\n",
    "\n",
    "void display(int a, int b = 10) {\n",
    "    cout << \"a: \" << a << \", b: \" << b << endl;\n",
    "}\n",
    "\n",
    "int main() {\n",
    "    display(5);    // b uses default value\n",
    "    display(5, 20); // b is overridden\n",
    "    return 0;\n",
    "}\n",
    "```\n",
    "\n",
    "#### 4. **Inline Functions**\n",
    "\n",
    "Functions that are expanded inline when invoked, reducing function call overhead.\n",
    "\n",
    "```cpp\n",
    "#include <iostream>\n",
    "using namespace std;\n",
    "\n",
    "inline int square(int x) {\n",
    "    return x * x;\n",
    "}\n",
    "\n",
    "int main() {\n",
    "    int num = 5;\n",
    "    cout << \"The square of \" << num << \" is: \" << square(num) << endl;\n",
    "    return 0;\n",
    "}\n",
    "```\n",
    "\n",
    "### Arrays in C++\n",
    "\n",
    "Arrays are collections of elements of the same type stored in contiguous memory locations. They allow you to store multiple values in a single variable.\n",
    "\n",
    "#### Declaring and Initializing Arrays\n",
    "\n",
    "```cpp\n",
    "#include <iostream>\n",
    "using namespace std;\n",
    "\n",
    "int main() {\n",
    "    // Declaration\n",
    "    int arr[5];\n",
    "\n",
    "    // Initialization\n",
    "    arr[0] = 10;\n",
    "    arr[1] = 20;\n",
    "    arr[2] = 30;\n",
    "    arr[3] = 40;\n",
    "    arr[4] = 50;\n",
    "\n",
    "    // Printing elements\n",
    "    for (int i = 0; i < 5; i++) {\n",
    "        cout << \"Element at index \" << i << \" is: \" << arr[i] << endl;\n",
    "    }\n",
    "\n",
    "    return 0;\n",
    "}\n",
    "```\n",
    "\n",
    "#### Declaring and Initializing Arrays (Compact Form)\n",
    "\n",
    "```cpp\n",
    "#include <iostream>\n",
    "using namespace std;\n",
    "\n",
    "int main() {\n",
    "    // Declaration and initialization\n",
    "    int arr[5] = {10, 20, 30, 40, 50};\n",
    "\n",
    "    // Printing elements\n",
    "    for (int i = 0; i < 5; i++) {\n",
    "        cout << \"Element at index \" << i << \" is: \" << arr[i] << endl;\n",
    "    }\n",
    "\n",
    "    return 0;\n",
    "}\n",
    "```\n",
    "\n",
    "#### Multi-Dimensional Arrays\n",
    "\n",
    "Arrays with more than one dimension, such as matrices.\n",
    "\n",
    "```cpp\n",
    "#include <iostream>\n",
    "using namespace std;\n",
    "\n",
    "int main() {\n",
    "    // Declaration and initialization of a 2D array\n",
    "    int matrix[2][3] = {\n",
    "        {1, 2, 3},\n",
    "        {4, 5, 6}\n",
    "    };\n",
    "\n",
    "    // Printing elements\n",
    "    for (int i = 0; i < 2; i++) {\n",
    "        for (int j = 0; j < 3; j++) {\n",
    "            cout << \"Element at [\" << i << \"][\" << j << \"] is: \" << matrix[i][j] << endl;\n",
    "        }\n",
    "    }\n",
    "\n",
    "    return 0;\n",
    "}\n",
    "```\n",
    "\n",
    "### Passing Arrays to Functions\n",
    "\n",
    "Arrays can be passed to functions by reference, allowing the function to modify the array.\n",
    "\n",
    "```cpp\n",
    "#include <iostream>\n",
    "using namespace std;\n",
    "\n",
    "// Function to print array elements\n",
    "void printArray(int arr[], int size) {\n",
    "    for (int i = 0; i < size; i++) {\n",
    "        cout << \"Element at index \" << i << \" is: \" << arr[i] << endl;\n",
    "    }\n",
    "}\n",
    "\n",
    "int main() {\n",
    "    int arr[5] = {10, 20, 30, 40, 50};\n",
    "    printArray(arr, 5); // Passing array to function\n",
    "    return 0;\n",
    "}\n",
    "```\n",
    "\n",
    "### Summary\n",
    "\n",
    "- **Functions**: Reusable blocks of code that perform specific tasks.\n",
    "  - **Void Functions**: Do not return a value.\n",
    "  - **Value-Returning Functions**: Return a value.\n",
    "  - **Default Arguments**: Functions with parameters that have default values.\n",
    "  - **Inline Functions**: Expanded in place to reduce function call overhead.\n",
    "  \n",
    "- **Arrays**: Collections of elements of the same type stored in contiguous memory locations.\n",
    "  - **Single-Dimensional Arrays**: One-dimensional arrays.\n",
    "  - **Multi-Dimensional Arrays**: Arrays with more than one dimension, such as matrices.\n",
    "  - **Passing Arrays to Functions**: Arrays can be passed to functions by reference."
   ]
  },
  {
   "cell_type": "markdown",
   "metadata": {},
   "source": [
    "### Decision Control Statements\n",
    "Decision control statements allow you to make decisions in your code."
   ]
  },
  {
   "cell_type": "markdown",
   "metadata": {},
   "source": [
    "```cpp\n",
    "#include <iostream>\n",
    "using namespace std;\n",
    "\n",
    "int main() {\n",
    "    int number;\n",
    "    cout << \"Enter a number: \";\n",
    "    cin >> number;\n",
    "\n",
    "    // if-else Statement\n",
    "    if (number > 0) {\n",
    "        cout << \"The number is positive.\" << endl;\n",
    "    } else if (number < 0) {\n",
    "        cout << \"The number is negative.\" << endl;\n",
    "    } else {\n",
    "        cout << \"The number is zero.\" << endl;\n",
    "    }\n",
    "\n",
    "    // switch Statement\n",
    "    int day;\n",
    "    cout << \"Enter a day (1-7): \";\n",
    "    cin >> day;\n",
    "\n",
    "    switch (day) {\n",
    "        case 1: cout << \"Monday\" << endl; break;\n",
    "        case 2: cout << \"Tuesday\" << endl; break;\n",
    "        case 3: cout << \"Wednesday\" << endl; break;\n",
    "        case 4: cout << \"Thursday\" << endl; break;\n",
    "        case 5: cout << \"Friday\" << endl; break;\n",
    "        case 6: cout << \"Saturday\" << endl; break;\n",
    "        case 7: cout << \"Sunday\" << endl; break;\n",
    "        default: cout << \"Invalid day\" << endl; break;\n",
    "    }\n",
    "\n",
    "    return 0;\n",
    "}\n",
    "\n",
    "```"
   ]
  },
  {
   "cell_type": "markdown",
   "metadata": {},
   "source": [
    "### Looping Statements\n",
    "Looping statements allow you to execute a block of code multiple times."
   ]
  },
  {
   "cell_type": "markdown",
   "metadata": {},
   "source": [
    "```cpp\n",
    "#include <iostream>\n",
    "using namespace std;\n",
    "\n",
    "int main() {\n",
    "    // for Loop\n",
    "    for (int i = 1; i <= 5; ++i) {\n",
    "        cout << \"Iteration \" << i << endl;\n",
    "    }\n",
    "\n",
    "    // while Loop\n",
    "    int i = 1;\n",
    "    while (i <= 5) {\n",
    "        cout << \"Iteration \" << i << endl;\n",
    "        ++i;\n",
    "    }\n",
    "\n",
    "    // do-while Loop\n",
    "    i = 1;\n",
    "    do {\n",
    "        cout << \"Iteration \" << i << endl;\n",
    "        ++i;\n",
    "    } while (i <= 5);\n",
    "\n",
    "    return 0;\n",
    "}\n",
    "```"
   ]
  },
  {
   "cell_type": "markdown",
   "metadata": {},
   "source": [
    "### Functions\n",
    "Functions are reusable blocks of code that perform specific tasks."
   ]
  },
  {
   "cell_type": "markdown",
   "metadata": {},
   "source": [
    "```cpp\n",
    "#include <iostream>\n",
    "using namespace std;\n",
    "\n",
    "// Function declaration\n",
    "int add(int a, int b);\n",
    "\n",
    "int main() {\n",
    "    int result = add(5, 3);\n",
    "    cout << \"Sum: \" << result << endl;\n",
    "    return 0;\n",
    "}\n",
    "\n",
    "// Function definition\n",
    "int add(int a, int b) {\n",
    "    return a + b;\n",
    "}\n",
    "\n",
    "// Function overloading\n",
    "double add(double a, double b) {\n",
    "    return a + b;\n",
    "}\n",
    "```"
   ]
  },
  {
   "cell_type": "markdown",
   "metadata": {},
   "source": [
    "### Arrays\n",
    "Arrays are collections of elements of the same type stored in contiguous memory locations."
   ]
  },
  {
   "cell_type": "markdown",
   "metadata": {},
   "source": [
    "```cpp\n",
    "#include <iostream>\n",
    "using namespace std;\n",
    "\n",
    "int main() {\n",
    "    int numbers[5] = {1, 2, 3, 4, 5};\n",
    "\n",
    "    // Accessing array elements\n",
    "    for (int i = 0; i < 5; ++i) {\n",
    "        cout << numbers[i] << \" \";\n",
    "    }\n",
    "    cout << endl;\n",
    "\n",
    "    // Multi-dimensional Arrays\n",
    "    int matrix[2][3] = {\n",
    "        {1, 2, 3},\n",
    "        {4, 5, 6}\n",
    "    };\n",
    "\n",
    "    for (int i = 0; i < 2; ++i) {\n",
    "        for (int j = 0; j < 3; ++j) {\n",
    "            cout << matrix[i][j] << \" \";\n",
    "        }\n",
    "        cout << endl;\n",
    "    }\n",
    "\n",
    "    return 0;\n",
    "}\n",
    "\n",
    "```"
   ]
  },
  {
   "cell_type": "markdown",
   "metadata": {},
   "source": [
    "### Memory Allocation\n",
    "Dynamic memory allocation allows you to allocate memory at runtime."
   ]
  },
  {
   "cell_type": "markdown",
   "metadata": {},
   "source": [
    "```cpp\n",
    "#include <iostream>\n",
    "using namespace std;\n",
    "\n",
    "int main() {\n",
    "    int* ptr = new int;  // Dynamic memory allocation\n",
    "    *ptr = 10;\n",
    "    cout << \"Value: \" << *ptr << endl;\n",
    "\n",
    "    delete ptr;  // Deallocate memory\n",
    "\n",
    "    return 0;\n",
    "}\n",
    "```"
   ]
  },
  {
   "cell_type": "markdown",
   "metadata": {},
   "source": [
    "### Array of Objects\n",
    "You can create an array of objects of a class."
   ]
  },
  {
   "cell_type": "markdown",
   "metadata": {},
   "source": [
    "```cpp\n",
    "#include <iostream>\n",
    "using namespace std;\n",
    "\n",
    "class Person {\n",
    "public:\n",
    "    string name;\n",
    "    int age;\n",
    "\n",
    "    void displayInfo() {\n",
    "        cout << \"Name: \" << name << \", Age: \" << age << endl;\n",
    "    }\n",
    "};\n",
    "\n",
    "int main() {\n",
    "    Person persons[2];\n",
    "\n",
    "    persons[0].name = \"Alice\";\n",
    "    persons[0].age = 30;\n",
    "    persons[1].name = \"Bob\";\n",
    "    persons[1].age = 25;\n",
    "\n",
    "    for (int i = 0; i < 2; ++i) {\n",
    "        persons[i].displayInfo();\n",
    "    }\n",
    "\n",
    "    return 0;\n",
    "}\n",
    "```"
   ]
  },
  {
   "cell_type": "markdown",
   "metadata": {},
   "source": [
    "### Constructors and Destructors\n",
    "Constructors initialize objects, and destructors clean up when objects are destroyed."
   ]
  },
  {
   "cell_type": "markdown",
   "metadata": {},
   "source": [
    "```cpp \n",
    "#include <iostream>\n",
    "using namespace std;\n",
    "\n",
    "class Rectangle {\n",
    "public:\n",
    "    int width, height;\n",
    "\n",
    "    // Constructor\n",
    "    Rectangle(int w, int h) : width(w), height(h) {}\n",
    "\n",
    "    int area() {\n",
    "        return width * height;\n",
    "    }\n",
    "\n",
    "    // Destructor\n",
    "    ~Rectangle() {\n",
    "        cout << \"Rectangle destroyed.\" << endl;\n",
    "    }\n",
    "};\n",
    "\n",
    "int main() {\n",
    "    Rectangle rect(10, 5);\n",
    "    cout << \"Area: \" << rect.area() << endl;\n",
    "\n",
    "    return 0;\n",
    "}\n",
    "```"
   ]
  },
  {
   "cell_type": "markdown",
   "metadata": {},
   "source": [
    "<div class=\"alert alert-block alert-info\">\n",
    "<h3>Text Books</h3>\n",
    "<li>1. ReemaThareja, ”Object Oriented Programming with C++”,Third Edition, Oxford University\n",
    "Press,New Delhi,2018 (UNIT 1)</li> \n",
    "<li>2. Herbert Schildt, “Java: The Complete Reference”, 12th Edition, McGraw Hill Education, New\n",
    "Delhi, 2021.(UNIT 2 to 5)</li> \n",
    "    \n",
    "</div>"
   ]
  },
  {
   "cell_type": "markdown",
   "metadata": {},
   "source": [
    "\n",
    "\n",
    "\n",
    "<div class=\"alert alert-block alert-info\">\n",
    "    \n",
    "# Any Questions or Doubts?\n",
    "\n",
    "[**Refer the Lectures/Tutorials GitHub Page**](https://github.com/PandiaJason/c++)\n",
    "\n",
    "    \n",
    "</div>\n",
    "\n"
   ]
  },
  {
   "cell_type": "code",
   "execution_count": null,
   "metadata": {},
   "outputs": [],
   "source": []
  }
 ],
 "metadata": {
  "kaggle": {
   "accelerator": "none",
   "dataSources": [],
   "dockerImageVersionId": 30664,
   "isGpuEnabled": false,
   "isInternetEnabled": false,
   "language": "python",
   "sourceType": "notebook"
  },
  "kernelspec": {
   "display_name": "Python 3 (ipykernel)",
   "language": "python",
   "name": "python3"
  },
  "language_info": {
   "codemirror_mode": {
    "name": "ipython",
    "version": 3
   },
   "file_extension": ".py",
   "mimetype": "text/x-python",
   "name": "python",
   "nbconvert_exporter": "python",
   "pygments_lexer": "ipython3",
   "version": "3.11.2"
  }
 },
 "nbformat": 4,
 "nbformat_minor": 4
}
