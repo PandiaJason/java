{
 "cells": [
  {
   "cell_type": "markdown",
   "metadata": {},
   "source": [
    "![College Logo](../misc/college-logo-1024x245.png)"
   ]
  },
  {
   "cell_type": "markdown",
   "metadata": {},
   "source": [
    "\n",
    "\n",
    "\n",
    "<div class=\"alert alert-block alert-info\">\n",
    "    \n",
    "# Lecture notes on JAVA\n",
    "\n",
    "**By Jason Pandian**<br> *Assistant Professor, Department of Information Technology*\n",
    "\n",
    "</div>\n",
    "\n"
   ]
  },
  {
   "cell_type": "markdown",
   "metadata": {},
   "source": [
    "# INTRODUCTION TO JAVA\n",
    "Introduction to Java Programming –Features of Java- Classes and Objects - Arrays – Methods – Constructor - Access Specifier – Static members - Command Line Arguments - Strings Handling - Method Overloading– Method Overriding - Inheritance\n"
   ]
  },
  {
   "cell_type": "markdown",
   "metadata": {},
   "source": [
    "## Introduction to Java Programming\n",
    "\n",
    "Java is a high-level, object-oriented programming language developed by Sun Microsystems in 1995. It is platform-independent, secure, and robust, making it widely used for building various types of applications.\n",
    "\n",
    "### Features of Java\n",
    "\n",
    "1. **Simple**: Java is easy to learn and its syntax is clean and easy to understand.\n",
    "2. **Object-Oriented**: Java is based on the object-oriented programming (OOP) paradigm, which promotes modular and reusable code.\n",
    "3. **Platform-Independent**: Java programs can run on any device that has the Java Virtual Machine (JVM).\n",
    "4. **Secure**: Java has built-in security features to protect against viruses and tampering.\n",
    "5. **Robust**: Java has strong memory management and exception handling features.\n",
    "6. **Multithreaded**: Java supports concurrent execution of multiple threads.\n",
    "7. **Portable**: Java code is portable across different platforms without modification.\n",
    "8. **High Performance**: Just-In-Time (JIT) compilers help improve the performance of Java applications.\n",
    "\n",
    "### Classes and Objects\n",
    "\n",
    "Java is a purely object-oriented programming language. Everything in Java is associated with classes and objects.\n",
    "\n",
    "```java\n",
    "public class Person {\n",
    "    // Fields\n",
    "    String name;\n",
    "    int age;\n",
    "\n",
    "    // Method\n",
    "    void displayInfo() {\n",
    "        System.out.println(\"Name: \" + name);\n",
    "        System.out.println(\"Age: \" + age);\n",
    "    }\n",
    "\n",
    "    // Main method\n",
    "    public static void main(String[] args) {\n",
    "        // Creating an object\n",
    "        Person person = new Person();\n",
    "        person.name = \"Alice\";\n",
    "        person.age = 30;\n",
    "        person.displayInfo();\n",
    "    }\n",
    "}\n"
   ]
  },
  {
   "cell_type": "markdown",
   "metadata": {},
   "source": [
    "## Arrays\n",
    "Arrays are used to store multiple values of the same type in a single variable."
   ]
  },
  {
   "cell_type": "markdown",
   "metadata": {},
   "source": [
    "```java\n",
    "public class ArrayExample {\n",
    "    public static void main(String[] args) {\n",
    "        int[] numbers = {1, 2, 3, 4, 5};\n",
    "\n",
    "        // Accessing array elements\n",
    "        for (int i = 0; i < numbers.length; i++) {\n",
    "            System.out.println(numbers[i]);\n",
    "        }\n",
    "    }\n",
    "}\n",
    "\n",
    "```"
   ]
  },
  {
   "cell_type": "markdown",
   "metadata": {},
   "source": [
    "### Methods\n",
    "Methods are blocks of code that perform a specific task and are defined within a class."
   ]
  },
  {
   "cell_type": "markdown",
   "metadata": {},
   "source": [
    "```java\n",
    "public class Rectangle {\n",
    "    int width, height;\n",
    "\n",
    "    // Constructor\n",
    "    Rectangle(int w, int h) {\n",
    "        width = w;\n",
    "        height = h;\n",
    "    }\n",
    "\n",
    "    int area() {\n",
    "        return width * height;\n",
    "    }\n",
    "\n",
    "    public static void main(String[] args) {\n",
    "        Rectangle rect = new Rectangle(10, 5);\n",
    "        System.out.println(\"Area: \" + rect.area());\n",
    "    }\n",
    "}\n",
    "\n",
    "```"
   ]
  },
  {
   "cell_type": "markdown",
   "metadata": {},
   "source": [
    "### Constructor\n",
    "A constructor is a special method that is called when an object is instantiated."
   ]
  },
  {
   "cell_type": "markdown",
   "metadata": {},
   "source": [
    "```java\n",
    "public class Rectangle {\n",
    "    int width, height;\n",
    "\n",
    "    // Constructor\n",
    "    Rectangle(int w, int h) {\n",
    "        width = w;\n",
    "        height = h;\n",
    "    }\n",
    "\n",
    "    int area() {\n",
    "        return width * height;\n",
    "    }\n",
    "\n",
    "    public static void main(String[] args) {\n",
    "        Rectangle rect = new Rectangle(10, 5);\n",
    "        System.out.println(\"Area: \" + rect.area());\n",
    "    }\n",
    "}\n",
    "```"
   ]
  },
  {
   "cell_type": "markdown",
   "metadata": {},
   "source": [
    "### Access Specifiers\n",
    "Access specifiers define the accessibility of classes, methods, and variables. The main access specifiers in Java are public, protected, default (no keyword), and private."
   ]
  },
  {
   "cell_type": "markdown",
   "metadata": {},
   "source": [
    "```java\n",
    "\n",
    "public class AccessSpecifierExample {\n",
    "    public int publicVar;\n",
    "    protected int protectedVar;\n",
    "    int defaultVar; // Default access\n",
    "    private int privateVar;\n",
    "\n",
    "    public void display() {\n",
    "        System.out.println(\"Public: \" + publicVar);\n",
    "        System.out.println(\"Protected: \" + protectedVar);\n",
    "        System.out.println(\"Default: \" + defaultVar);\n",
    "        System.out.println(\"Private: \" + privateVar);\n",
    "    }\n",
    "}\n",
    "\n",
    "```"
   ]
  },
  {
   "cell_type": "markdown",
   "metadata": {},
   "source": [
    "### Static Members\n",
    "Static members belong to the class rather than any specific instance. They are shared among all instances of the class."
   ]
  },
  {
   "cell_type": "markdown",
   "metadata": {},
   "source": [
    "```java\n",
    "public class StaticExample {\n",
    "    static int staticVar = 10;\n",
    "\n",
    "    static void display() {\n",
    "        System.out.println(\"Static Variable: \" + staticVar);\n",
    "    }\n",
    "\n",
    "    public static void main(String[] args) {\n",
    "        StaticExample.display();\n",
    "    }\n",
    "}\n",
    "```"
   ]
  },
  {
   "cell_type": "markdown",
   "metadata": {},
   "source": [
    "### Command Line Arguments\n",
    "Java programs can accept command-line arguments."
   ]
  },
  {
   "cell_type": "markdown",
   "metadata": {},
   "source": [
    "```java\n",
    "public class CommandLineArgs {\n",
    "    public static void main(String[] args) {\n",
    "        for (String arg : args) {\n",
    "            System.out.println(arg);\n",
    "        }\n",
    "    }\n",
    "}\n",
    "\n",
    "```"
   ]
  },
  {
   "cell_type": "markdown",
   "metadata": {},
   "source": [
    "### String Handling\n",
    "Strings are objects in Java and are handled using the String class."
   ]
  },
  {
   "cell_type": "markdown",
   "metadata": {},
   "source": [
    "```java\n",
    "public class StringExample {\n",
    "    public static void main(String[] args) {\n",
    "        String str = \"Hello, World!\";\n",
    "        System.out.println(\"Length: \" + str.length());\n",
    "        System.out.println(\"Substring: \" + str.substring(0, 5));\n",
    "        System.out.println(\"Uppercase: \" + str.toUpperCase());\n",
    "    }\n",
    "}\n",
    "```"
   ]
  },
  {
   "cell_type": "markdown",
   "metadata": {},
   "source": [
    "### Method Overloading\n",
    "Method overloading allows multiple methods with the same name but different parameters."
   ]
  },
  {
   "cell_type": "markdown",
   "metadata": {},
   "source": [
    "```java\n",
    "public class OverloadingExample {\n",
    "    void display(int a) {\n",
    "        System.out.println(\"Argument: \" + a);\n",
    "    }\n",
    "\n",
    "    void display(String a) {\n",
    "        System.out.println(\"Argument: \" + a);\n",
    "    }\n",
    "\n",
    "    public static void main(String[] args) {\n",
    "        OverloadingExample obj = new OverloadingExample();\n",
    "        obj.display(10);\n",
    "        obj.display(\"Hello\");\n",
    "    }\n",
    "}\n",
    "```"
   ]
  },
  {
   "cell_type": "markdown",
   "metadata": {},
   "source": [
    "### Method Overriding\n",
    "Method overriding allows a subclass to provide a specific implementation of a method already defined in its superclass.\n",
    "\n"
   ]
  },
  {
   "cell_type": "markdown",
   "metadata": {},
   "source": [
    "```java\n",
    "class Animal {\n",
    "    void sound() {\n",
    "        System.out.println(\"Animal makes a sound\");\n",
    "    }\n",
    "}\n",
    "\n",
    "class Dog extends Animal {\n",
    "    @Override\n",
    "    void sound() {\n",
    "        System.out.println(\"Dog barks\");\n",
    "    }\n",
    "\n",
    "    public static void main(String[] args) {\n",
    "        Dog dog = new Dog();\n",
    "        dog.sound();\n",
    "    }\n",
    "}\n",
    "\n",
    "```"
   ]
  },
  {
   "cell_type": "markdown",
   "metadata": {},
   "source": [
    "### Inheritance\n",
    "Inheritance allows one class to inherit the properties and methods of another class."
   ]
  },
  {
   "cell_type": "markdown",
   "metadata": {},
   "source": [
    "```java\n",
    "class Person {\n",
    "    String name;\n",
    "    int age;\n",
    "\n",
    "    void displayInfo() {\n",
    "        System.out.println(\"Name: \" + name);\n",
    "        System.out.println(\"Age: \" + age);\n",
    "    }\n",
    "}\n",
    "\n",
    "class Student extends Person {\n",
    "    String major;\n",
    "\n",
    "    void displayMajor() {\n",
    "        System.out.println(\"Major: \" + major);\n",
    "    }\n",
    "\n",
    "    public static void main(String[] args) {\n",
    "        Student student = new Student();\n",
    "        student.name = \"Bob\";\n",
    "        student.age = 20;\n",
    "        student.major = \"Computer Science\";\n",
    "        student.displayInfo();\n",
    "        student.displayMajor();\n",
    "    }\n",
    "}\n",
    "\n",
    "```"
   ]
  },
  {
   "cell_type": "markdown",
   "metadata": {},
   "source": [
    "\n",
    "\n",
    "\n",
    "<div class=\"alert alert-block alert-info\">\n",
    "    \n",
    "# Any Questions or Doubts?\n",
    "\n",
    "[**Refer the Lectures/Tutorials GitHub Page**](https://github.com/PandiaJason/java)\n",
    "\n",
    "    \n",
    "</div>\n",
    "\n"
   ]
  },
  {
   "cell_type": "code",
   "execution_count": null,
   "metadata": {},
   "outputs": [],
   "source": []
  }
 ],
 "metadata": {
  "kaggle": {
   "accelerator": "none",
   "dataSources": [],
   "dockerImageVersionId": 30664,
   "isGpuEnabled": false,
   "isInternetEnabled": false,
   "language": "python",
   "sourceType": "notebook"
  },
  "kernelspec": {
   "display_name": "Python 3 (ipykernel)",
   "language": "python",
   "name": "python3"
  },
  "language_info": {
   "codemirror_mode": {
    "name": "ipython",
    "version": 3
   },
   "file_extension": ".py",
   "mimetype": "text/x-python",
   "name": "python",
   "nbconvert_exporter": "python",
   "pygments_lexer": "ipython3",
   "version": "3.11.2"
  }
 },
 "nbformat": 4,
 "nbformat_minor": 4
}
